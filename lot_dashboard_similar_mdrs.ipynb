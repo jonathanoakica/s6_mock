{
 "cells": [
  {
   "cell_type": "code",
   "execution_count": 1,
   "id": "4a3b7a17",
   "metadata": {},
   "outputs": [],
   "source": [
    "import pandas as pd"
   ]
  },
  {
   "cell_type": "code",
   "execution_count": 2,
   "id": "e304df30",
   "metadata": {},
   "outputs": [],
   "source": [
    "dashboard = pd.read_csv('dashboard.csv')"
   ]
  },
  {
   "cell_type": "code",
   "execution_count": 3,
   "id": "cc0f6c93",
   "metadata": {},
   "outputs": [],
   "source": [
    "dashboard = dashboard[dashboard['total_mdrs_both'] < 1000]"
   ]
  },
  {
   "cell_type": "code",
   "execution_count": 4,
   "id": "9b7610e9",
   "metadata": {},
   "outputs": [],
   "source": [
    "dashboard.reset_index(inplace=True, drop=True)"
   ]
  },
  {
   "cell_type": "code",
   "execution_count": 5,
   "id": "ccc82b8c",
   "metadata": {},
   "outputs": [
    {
     "name": "stdout",
     "output_type": "stream",
     "text": [
      "1\n",
      "995\n"
     ]
    }
   ],
   "source": [
    "print(min(dashboard['total_mdrs_both']))\n",
    "print(max(dashboard['total_mdrs_both']))"
   ]
  },
  {
   "cell_type": "code",
   "execution_count": 6,
   "id": "7eb74c30",
   "metadata": {},
   "outputs": [
    {
     "data": {
      "text/plain": [
       "0                ['A090809']\n",
       "1                         []\n",
       "2                         []\n",
       "3                ['A090809']\n",
       "4    ['A26', 'E2401', 'F24']\n",
       "5                         []\n",
       "6                         []\n",
       "7                         []\n",
       "8                ['A090810']\n",
       "9                         []\n",
       "Name: imdrf_codes, dtype: object"
      ]
     },
     "execution_count": 6,
     "metadata": {},
     "output_type": "execute_result"
    }
   ],
   "source": [
    "dashboard.imdrf_codes[:10]"
   ]
  },
  {
   "cell_type": "code",
   "execution_count": 7,
   "id": "73f3e6c8",
   "metadata": {},
   "outputs": [
    {
     "data": {
      "text/html": [
       "<div>\n",
       "<style scoped>\n",
       "    .dataframe tbody tr th:only-of-type {\n",
       "        vertical-align: middle;\n",
       "    }\n",
       "\n",
       "    .dataframe tbody tr th {\n",
       "        vertical-align: top;\n",
       "    }\n",
       "\n",
       "    .dataframe thead th {\n",
       "        text-align: right;\n",
       "    }\n",
       "</style>\n",
       "<table border=\"1\" class=\"dataframe\">\n",
       "  <thead>\n",
       "    <tr style=\"text-align: right;\">\n",
       "      <th></th>\n",
       "      <th>manufacturer_name</th>\n",
       "      <th>brand</th>\n",
       "      <th>k_numbers</th>\n",
       "      <th>nlp_product_problem</th>\n",
       "      <th>model_number</th>\n",
       "      <th>lot_number</th>\n",
       "      <th>total_mdrs_recall</th>\n",
       "      <th>is_scope_model</th>\n",
       "      <th>is_scope_lot</th>\n",
       "      <th>imdrf_codes</th>\n",
       "      <th>total_mdrs_both</th>\n",
       "    </tr>\n",
       "  </thead>\n",
       "  <tbody>\n",
       "    <tr>\n",
       "      <th>0</th>\n",
       "      <td>BAYER HEALTHCARE, LLC</td>\n",
       "      <td>CONTOUR TEST STRIPS</td>\n",
       "      <td>K062058</td>\n",
       "      <td>[E1206, A24, E1205]</td>\n",
       "      <td>9507C</td>\n",
       "      <td>9CC3C51</td>\n",
       "      <td>2</td>\n",
       "      <td>Yes</td>\n",
       "      <td>No</td>\n",
       "      <td>['A090809']</td>\n",
       "      <td>480</td>\n",
       "    </tr>\n",
       "    <tr>\n",
       "      <th>1</th>\n",
       "      <td>BAYER HEALTHCARE LLC</td>\n",
       "      <td>CONTOUR TEST STRIPS</td>\n",
       "      <td>K062058</td>\n",
       "      <td>[E1206, A24, E1205]</td>\n",
       "      <td>7097C</td>\n",
       "      <td>1GC3D13</td>\n",
       "      <td>2</td>\n",
       "      <td>No</td>\n",
       "      <td>No</td>\n",
       "      <td>[]</td>\n",
       "      <td>480</td>\n",
       "    </tr>\n",
       "    <tr>\n",
       "      <th>2</th>\n",
       "      <td>BAYER HEALTHCARE LLC</td>\n",
       "      <td>CONTOUR TEST STRIPS</td>\n",
       "      <td>K062058</td>\n",
       "      <td>[E1206, A24, E1205]</td>\n",
       "      <td>7080G</td>\n",
       "      <td>0EC3D05</td>\n",
       "      <td>2</td>\n",
       "      <td>No</td>\n",
       "      <td>No</td>\n",
       "      <td>[]</td>\n",
       "      <td>480</td>\n",
       "    </tr>\n",
       "    <tr>\n",
       "      <th>3</th>\n",
       "      <td>BAYER HEALTHCARE LLC</td>\n",
       "      <td>CONTOUR TEST STRIPS</td>\n",
       "      <td>K062058</td>\n",
       "      <td>[E1206, A24, E1205]</td>\n",
       "      <td>7098B</td>\n",
       "      <td>1GC3D02</td>\n",
       "      <td>2</td>\n",
       "      <td>No</td>\n",
       "      <td>No</td>\n",
       "      <td>['A090809']</td>\n",
       "      <td>480</td>\n",
       "    </tr>\n",
       "    <tr>\n",
       "      <th>4</th>\n",
       "      <td>BAYER HEALTHCARE LLC</td>\n",
       "      <td>CONTOUR TEST STRIPS</td>\n",
       "      <td>K062058</td>\n",
       "      <td>[E1206, A24, E1205]</td>\n",
       "      <td>7097C</td>\n",
       "      <td>1DC3C06</td>\n",
       "      <td>2</td>\n",
       "      <td>No</td>\n",
       "      <td>No</td>\n",
       "      <td>['A26', 'E2401', 'F24']</td>\n",
       "      <td>480</td>\n",
       "    </tr>\n",
       "  </tbody>\n",
       "</table>\n",
       "</div>"
      ],
      "text/plain": [
       "       manufacturer_name                brand k_numbers  nlp_product_problem  \\\n",
       "0  BAYER HEALTHCARE, LLC  CONTOUR TEST STRIPS   K062058  [E1206, A24, E1205]   \n",
       "1   BAYER HEALTHCARE LLC  CONTOUR TEST STRIPS   K062058  [E1206, A24, E1205]   \n",
       "2   BAYER HEALTHCARE LLC  CONTOUR TEST STRIPS   K062058  [E1206, A24, E1205]   \n",
       "3   BAYER HEALTHCARE LLC  CONTOUR TEST STRIPS   K062058  [E1206, A24, E1205]   \n",
       "4   BAYER HEALTHCARE LLC  CONTOUR TEST STRIPS   K062058  [E1206, A24, E1205]   \n",
       "\n",
       "  model_number lot_number  total_mdrs_recall is_scope_model is_scope_lot  \\\n",
       "0        9507C    9CC3C51                  2            Yes           No   \n",
       "1        7097C    1GC3D13                  2             No           No   \n",
       "2        7080G    0EC3D05                  2             No           No   \n",
       "3        7098B    1GC3D02                  2             No           No   \n",
       "4        7097C    1DC3C06                  2             No           No   \n",
       "\n",
       "               imdrf_codes  total_mdrs_both  \n",
       "0              ['A090809']              480  \n",
       "1                       []              480  \n",
       "2                       []              480  \n",
       "3              ['A090809']              480  \n",
       "4  ['A26', 'E2401', 'F24']              480  "
      ]
     },
     "execution_count": 7,
     "metadata": {},
     "output_type": "execute_result"
    }
   ],
   "source": [
    "dashboard.head()"
   ]
  },
  {
   "cell_type": "markdown",
   "id": "fc768591",
   "metadata": {},
   "source": [
    "### Transform the string list into a list of string\n",
    "`ast` and `eval` not working?"
   ]
  },
  {
   "cell_type": "code",
   "execution_count": 8,
   "id": "ad65ebe6",
   "metadata": {},
   "outputs": [],
   "source": [
    "def trasforming_lists(row_val):\n",
    "    cleaned_item = row_val.strip('[]').replace(' ', '').replace(\"'\",'')\n",
    "    if ',' in cleaned_item:\n",
    "       return cleaned_item.split(',')\n",
    "    else:\n",
    "       return [cleaned_item]"
   ]
  },
  {
   "cell_type": "code",
   "execution_count": 9,
   "id": "57287608",
   "metadata": {},
   "outputs": [],
   "source": [
    "dashboard['nlp_product_problem'] = dashboard['nlp_product_problem'].apply(trasforming_lists)"
   ]
  },
  {
   "cell_type": "code",
   "execution_count": 10,
   "id": "6589c159",
   "metadata": {},
   "outputs": [
    {
     "data": {
      "text/plain": [
       "'E1206'"
      ]
     },
     "execution_count": 10,
     "metadata": {},
     "output_type": "execute_result"
    }
   ],
   "source": [
    "dashboard['nlp_product_problem'][0][0]"
   ]
  },
  {
   "cell_type": "code",
   "execution_count": 11,
   "id": "2ba1e02e",
   "metadata": {},
   "outputs": [],
   "source": [
    "dashboard['imdrf_codes'] = dashboard['imdrf_codes'].apply(trasforming_lists)"
   ]
  },
  {
   "cell_type": "code",
   "execution_count": 12,
   "id": "eee23405",
   "metadata": {},
   "outputs": [
    {
     "data": {
      "text/plain": [
       "'A090809'"
      ]
     },
     "execution_count": 12,
     "metadata": {},
     "output_type": "execute_result"
    }
   ],
   "source": [
    "dashboard['imdrf_codes'][0][0]"
   ]
  },
  {
   "cell_type": "markdown",
   "id": "1ee41341",
   "metadata": {},
   "source": [
    "### Produce a count of imdrf codes per k_number"
   ]
  },
  {
   "cell_type": "code",
   "execution_count": 13,
   "id": "0ce3c371",
   "metadata": {},
   "outputs": [],
   "source": [
    "import pandas as pd\n",
    "\n",
    "# Create a list of unique k_numbers\n",
    "unique_k_numbers = dashboard['k_numbers'].unique()\n",
    "\n",
    "# Create an empty list to store the results\n",
    "result = []\n",
    "\n",
    "# Iterate through each k_number\n",
    "for k_number in unique_k_numbers:\n",
    "    subset = dashboard[dashboard['k_numbers'] == k_number]\n",
    "    imdrf_counts = {}\n",
    "\n",
    "    # Count the occurrences of imdrf_codes within the subset\n",
    "    for _, row in subset.iterrows():\n",
    "        imdrf_codes = row['imdrf_codes']\n",
    "        for code in imdrf_codes:\n",
    "            if code in imdrf_counts:\n",
    "                imdrf_counts[code] += 1\n",
    "            else:\n",
    "                imdrf_counts[code] = 1\n",
    "\n",
    "    # Create a new row with k_number, imdrf_code, and count\n",
    "    for code, count in imdrf_counts.items():\n",
    "        result.append({'k_numbers': k_number, 'imdrf_codes': code, 'count': count})\n",
    "\n",
    "# Create a new dataframe from the result list\n",
    "result_df = pd.DataFrame(result)"
   ]
  },
  {
   "cell_type": "code",
   "execution_count": 14,
   "id": "29fddd3e",
   "metadata": {},
   "outputs": [
    {
     "data": {
      "text/html": [
       "<div>\n",
       "<style scoped>\n",
       "    .dataframe tbody tr th:only-of-type {\n",
       "        vertical-align: middle;\n",
       "    }\n",
       "\n",
       "    .dataframe tbody tr th {\n",
       "        vertical-align: top;\n",
       "    }\n",
       "\n",
       "    .dataframe thead th {\n",
       "        text-align: right;\n",
       "    }\n",
       "</style>\n",
       "<table border=\"1\" class=\"dataframe\">\n",
       "  <thead>\n",
       "    <tr style=\"text-align: right;\">\n",
       "      <th></th>\n",
       "      <th>k_numbers</th>\n",
       "      <th>imdrf_codes</th>\n",
       "      <th>count</th>\n",
       "    </tr>\n",
       "  </thead>\n",
       "  <tbody>\n",
       "    <tr>\n",
       "      <th>0</th>\n",
       "      <td>K062058</td>\n",
       "      <td>A090809</td>\n",
       "      <td>118</td>\n",
       "    </tr>\n",
       "    <tr>\n",
       "      <th>1</th>\n",
       "      <td>K062058</td>\n",
       "      <td></td>\n",
       "      <td>296</td>\n",
       "    </tr>\n",
       "    <tr>\n",
       "      <th>2</th>\n",
       "      <td>K062058</td>\n",
       "      <td>A26</td>\n",
       "      <td>5</td>\n",
       "    </tr>\n",
       "    <tr>\n",
       "      <th>3</th>\n",
       "      <td>K062058</td>\n",
       "      <td>E2401</td>\n",
       "      <td>5</td>\n",
       "    </tr>\n",
       "    <tr>\n",
       "      <th>4</th>\n",
       "      <td>K062058</td>\n",
       "      <td>F24</td>\n",
       "      <td>5</td>\n",
       "    </tr>\n",
       "  </tbody>\n",
       "</table>\n",
       "</div>"
      ],
      "text/plain": [
       "  k_numbers imdrf_codes  count\n",
       "0   K062058     A090809    118\n",
       "1   K062058                296\n",
       "2   K062058         A26      5\n",
       "3   K062058       E2401      5\n",
       "4   K062058         F24      5"
      ]
     },
     "execution_count": 14,
     "metadata": {},
     "output_type": "execute_result"
    }
   ],
   "source": [
    "result_df.head()"
   ]
  },
  {
   "cell_type": "code",
   "execution_count": 15,
   "id": "418d0e0e",
   "metadata": {},
   "outputs": [],
   "source": [
    "result_df.to_csv('imdrf_codes_count.csv', index=False)"
   ]
  },
  {
   "cell_type": "code",
   "execution_count": 17,
   "id": "ae5eb41c",
   "metadata": {},
   "outputs": [],
   "source": [
    "dashboard.to_csv('dashboard_under_1k.csv', index=False)"
   ]
  },
  {
   "cell_type": "code",
   "execution_count": null,
   "id": "ed6ff8a5",
   "metadata": {},
   "outputs": [],
   "source": []
  },
  {
   "cell_type": "code",
   "execution_count": null,
   "id": "462dd9c7",
   "metadata": {},
   "outputs": [],
   "source": []
  },
  {
   "cell_type": "code",
   "execution_count": null,
   "id": "1520b08f",
   "metadata": {},
   "outputs": [],
   "source": []
  },
  {
   "cell_type": "code",
   "execution_count": null,
   "id": "bb6cf0c4",
   "metadata": {},
   "outputs": [],
   "source": []
  },
  {
   "cell_type": "code",
   "execution_count": null,
   "id": "9e700201",
   "metadata": {},
   "outputs": [],
   "source": []
  },
  {
   "cell_type": "code",
   "execution_count": null,
   "id": "72c32a44",
   "metadata": {},
   "outputs": [],
   "source": [
    "full_lst = [] \n",
    "\n",
    "# Create a list of unique k_numbers\n",
    "unique_k_numbers = dashboard['k_numbers'].unique()\n",
    "\n",
    "# Iterate through each k_number\n",
    "for k_number in unique_k_numbers:\n",
    "    # Filter the dataset for the current k_number\n",
    "    subset = dashboard[dashboard['k_numbers'] == k_number]\n",
    "    \n",
    "    \n",
    "    temp = {}\n",
    "    temp[k_number] = {}\n",
    "    for row in subset.imdrf_codes:\n",
    "        for item in row:\n",
    "            if item not in temp[k_number]:\n",
    "                temp[k_number][item] = 1\n",
    "            else:\n",
    "                temp[k_number][item] += 1\n",
    "    full_lst.append(temp)\n",
    "    "
   ]
  }
 ],
 "metadata": {
  "kernelspec": {
   "display_name": "Python 3 (ipykernel)",
   "language": "python",
   "name": "python3"
  },
  "language_info": {
   "codemirror_mode": {
    "name": "ipython",
    "version": 3
   },
   "file_extension": ".py",
   "mimetype": "text/x-python",
   "name": "python",
   "nbconvert_exporter": "python",
   "pygments_lexer": "ipython3",
   "version": "3.9.13"
  }
 },
 "nbformat": 4,
 "nbformat_minor": 5
}
